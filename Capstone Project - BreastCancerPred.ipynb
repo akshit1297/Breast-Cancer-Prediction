{
 "cells": [
  {
   "cell_type": "markdown",
   "metadata": {},
   "source": [
    "# Breast Cancer Prediction\n",
    "\n",
    "The challenge is to develop a model to classify Malignant and Benign tissues successfully. \n",
    "\n",
    "The flow of the document will be in the following manner:\n",
    "\n",
    "- Data Exploration and Visualisation\n",
    "- Data preprocessing/cleaning\n",
    "- Implementation\n",
    "- Model Evaluation\n",
    "- Conclusion"
   ]
  },
  {
   "cell_type": "markdown",
   "metadata": {},
   "source": [
    "## Data Exploration and Visualisation\n",
    "\n",
    "### Breast Cancer Dataset\n",
    "\n",
    "For this project we will use Breast Cancer Dataset available on Kaggle by UCIML.Features are computed from a digitized image of a fine needle aspirate (FNA) of a breast mass. They describe characteristics of the cell nuclei present in the image.\n",
    "Data fields\n",
    "- id - ID number\n",
    "- diagnosis - The diagnosis of breast tissues (M = malignant, B = benign)\n",
    "- radius_mean - mean of distances from center to points on the perimeter\n",
    "- texture_mean - standard deviation of gray-scale values\n",
    "- perimeter_meanmean size of the core tumor\n",
    "- area_mean\n",
    "- smoothness_mean - mean of local variation in radius lengths\n",
    "- compactness_mean - mean of perimeter^2 / area - 1.0\n",
    "- concavity_mean - mean of severity of concave portions of the contour\n",
    "- concave points_mean - mean for number of concave portions of the contour\n",
    "- symmetry_mean\n",
    "- fractal_dimension_mean - mean for \"coastline approximation\" - 1\n",
    "- radius_se - standard error for the mean of distances from center to points on the perimeter\n",
    "- texture_se - standard error for standard deviation of gray-scale values\n",
    "- perimeter_se\n",
    "- area_se\n",
    "- smoothness_se - standard error for local variation in radius lengths\n",
    "- compactness_se - standard error for perimeter^2 / area - 1.0\n",
    "- concavity_se - standard error for severity of concave portions of the contour\n",
    "- concave points_se - standard error for number of concave portions of the contour\n",
    "- symmetry_se\n",
    "- fractal_dimension_se - standard error for \"coastline approximation\" - 1\n",
    "- radius_worst - \"worst\" or largest mean value for mean of distances from center to points on the perimeter\n",
    "- texture_worst  \"worst\" or largest mean value for standard deviation of gray-scale values\n",
    "- perimeter_worst\n",
    "- area_worst\n",
    "- smoothness_worst - \"worst\" or largest mean value for local variation in radius lengths\n",
    "- compactness_worst -\"worst\" or largest mean value for perimeter^2 / area - 1.0\n",
    "- concavity_worst - \"worst\" or largest mean value for severity of concave portions of the contour\n",
    "- concave points_worst- \"worst\" or largest mean value for number of concave portions of the contour\n",
    "- symmetry_worst\n",
    "- fractal_dimension_worst - \"worst\" or largest mean value for \"coastline approximation\" - 1\n",
    "\n",
    "The full dataset can be downloaded from [here](https://www.kaggle.com/uciml/breast-cancer-wisconsin-data)."
   ]
  },
  {
   "cell_type": "code",
   "execution_count": 1,
   "metadata": {},
   "outputs": [],
   "source": [
    "# import libraries\n",
    "import pandas as pd\n",
    "import numpy as np\n",
    "import os\n",
    "import matplotlib.pyplot as plt\n",
    "import seaborn as sns"
   ]
  },
  {
   "cell_type": "code",
   "execution_count": 2,
   "metadata": {},
   "outputs": [],
   "source": [
    "# input your data path below\n",
    "df = pd.read_csv('/home/akshit/Downloads/data.csv')"
   ]
  },
  {
   "cell_type": "code",
   "execution_count": 3,
   "metadata": {},
   "outputs": [
    {
     "data": {
      "text/html": [
       "<div>\n",
       "<style scoped>\n",
       "    .dataframe tbody tr th:only-of-type {\n",
       "        vertical-align: middle;\n",
       "    }\n",
       "\n",
       "    .dataframe tbody tr th {\n",
       "        vertical-align: top;\n",
       "    }\n",
       "\n",
       "    .dataframe thead th {\n",
       "        text-align: right;\n",
       "    }\n",
       "</style>\n",
       "<table border=\"1\" class=\"dataframe\">\n",
       "  <thead>\n",
       "    <tr style=\"text-align: right;\">\n",
       "      <th></th>\n",
       "      <th>id</th>\n",
       "      <th>diagnosis</th>\n",
       "      <th>radius_mean</th>\n",
       "      <th>texture_mean</th>\n",
       "      <th>perimeter_mean</th>\n",
       "      <th>area_mean</th>\n",
       "      <th>smoothness_mean</th>\n",
       "      <th>compactness_mean</th>\n",
       "      <th>concavity_mean</th>\n",
       "      <th>concave points_mean</th>\n",
       "      <th>...</th>\n",
       "      <th>texture_worst</th>\n",
       "      <th>perimeter_worst</th>\n",
       "      <th>area_worst</th>\n",
       "      <th>smoothness_worst</th>\n",
       "      <th>compactness_worst</th>\n",
       "      <th>concavity_worst</th>\n",
       "      <th>concave points_worst</th>\n",
       "      <th>symmetry_worst</th>\n",
       "      <th>fractal_dimension_worst</th>\n",
       "      <th>Unnamed: 32</th>\n",
       "    </tr>\n",
       "  </thead>\n",
       "  <tbody>\n",
       "    <tr>\n",
       "      <th>0</th>\n",
       "      <td>842302</td>\n",
       "      <td>M</td>\n",
       "      <td>17.99</td>\n",
       "      <td>10.38</td>\n",
       "      <td>122.80</td>\n",
       "      <td>1001.0</td>\n",
       "      <td>0.11840</td>\n",
       "      <td>0.27760</td>\n",
       "      <td>0.3001</td>\n",
       "      <td>0.14710</td>\n",
       "      <td>...</td>\n",
       "      <td>17.33</td>\n",
       "      <td>184.60</td>\n",
       "      <td>2019.0</td>\n",
       "      <td>0.1622</td>\n",
       "      <td>0.6656</td>\n",
       "      <td>0.7119</td>\n",
       "      <td>0.2654</td>\n",
       "      <td>0.4601</td>\n",
       "      <td>0.11890</td>\n",
       "      <td>NaN</td>\n",
       "    </tr>\n",
       "    <tr>\n",
       "      <th>1</th>\n",
       "      <td>842517</td>\n",
       "      <td>M</td>\n",
       "      <td>20.57</td>\n",
       "      <td>17.77</td>\n",
       "      <td>132.90</td>\n",
       "      <td>1326.0</td>\n",
       "      <td>0.08474</td>\n",
       "      <td>0.07864</td>\n",
       "      <td>0.0869</td>\n",
       "      <td>0.07017</td>\n",
       "      <td>...</td>\n",
       "      <td>23.41</td>\n",
       "      <td>158.80</td>\n",
       "      <td>1956.0</td>\n",
       "      <td>0.1238</td>\n",
       "      <td>0.1866</td>\n",
       "      <td>0.2416</td>\n",
       "      <td>0.1860</td>\n",
       "      <td>0.2750</td>\n",
       "      <td>0.08902</td>\n",
       "      <td>NaN</td>\n",
       "    </tr>\n",
       "    <tr>\n",
       "      <th>2</th>\n",
       "      <td>84300903</td>\n",
       "      <td>M</td>\n",
       "      <td>19.69</td>\n",
       "      <td>21.25</td>\n",
       "      <td>130.00</td>\n",
       "      <td>1203.0</td>\n",
       "      <td>0.10960</td>\n",
       "      <td>0.15990</td>\n",
       "      <td>0.1974</td>\n",
       "      <td>0.12790</td>\n",
       "      <td>...</td>\n",
       "      <td>25.53</td>\n",
       "      <td>152.50</td>\n",
       "      <td>1709.0</td>\n",
       "      <td>0.1444</td>\n",
       "      <td>0.4245</td>\n",
       "      <td>0.4504</td>\n",
       "      <td>0.2430</td>\n",
       "      <td>0.3613</td>\n",
       "      <td>0.08758</td>\n",
       "      <td>NaN</td>\n",
       "    </tr>\n",
       "    <tr>\n",
       "      <th>3</th>\n",
       "      <td>84348301</td>\n",
       "      <td>M</td>\n",
       "      <td>11.42</td>\n",
       "      <td>20.38</td>\n",
       "      <td>77.58</td>\n",
       "      <td>386.1</td>\n",
       "      <td>0.14250</td>\n",
       "      <td>0.28390</td>\n",
       "      <td>0.2414</td>\n",
       "      <td>0.10520</td>\n",
       "      <td>...</td>\n",
       "      <td>26.50</td>\n",
       "      <td>98.87</td>\n",
       "      <td>567.7</td>\n",
       "      <td>0.2098</td>\n",
       "      <td>0.8663</td>\n",
       "      <td>0.6869</td>\n",
       "      <td>0.2575</td>\n",
       "      <td>0.6638</td>\n",
       "      <td>0.17300</td>\n",
       "      <td>NaN</td>\n",
       "    </tr>\n",
       "    <tr>\n",
       "      <th>4</th>\n",
       "      <td>84358402</td>\n",
       "      <td>M</td>\n",
       "      <td>20.29</td>\n",
       "      <td>14.34</td>\n",
       "      <td>135.10</td>\n",
       "      <td>1297.0</td>\n",
       "      <td>0.10030</td>\n",
       "      <td>0.13280</td>\n",
       "      <td>0.1980</td>\n",
       "      <td>0.10430</td>\n",
       "      <td>...</td>\n",
       "      <td>16.67</td>\n",
       "      <td>152.20</td>\n",
       "      <td>1575.0</td>\n",
       "      <td>0.1374</td>\n",
       "      <td>0.2050</td>\n",
       "      <td>0.4000</td>\n",
       "      <td>0.1625</td>\n",
       "      <td>0.2364</td>\n",
       "      <td>0.07678</td>\n",
       "      <td>NaN</td>\n",
       "    </tr>\n",
       "  </tbody>\n",
       "</table>\n",
       "<p>5 rows × 33 columns</p>\n",
       "</div>"
      ],
      "text/plain": [
       "         id diagnosis  radius_mean  texture_mean  perimeter_mean  area_mean  \\\n",
       "0    842302         M        17.99         10.38          122.80     1001.0   \n",
       "1    842517         M        20.57         17.77          132.90     1326.0   \n",
       "2  84300903         M        19.69         21.25          130.00     1203.0   \n",
       "3  84348301         M        11.42         20.38           77.58      386.1   \n",
       "4  84358402         M        20.29         14.34          135.10     1297.0   \n",
       "\n",
       "   smoothness_mean  compactness_mean  concavity_mean  concave points_mean  \\\n",
       "0          0.11840           0.27760          0.3001              0.14710   \n",
       "1          0.08474           0.07864          0.0869              0.07017   \n",
       "2          0.10960           0.15990          0.1974              0.12790   \n",
       "3          0.14250           0.28390          0.2414              0.10520   \n",
       "4          0.10030           0.13280          0.1980              0.10430   \n",
       "\n",
       "   ...  texture_worst  perimeter_worst  area_worst  smoothness_worst  \\\n",
       "0  ...          17.33           184.60      2019.0            0.1622   \n",
       "1  ...          23.41           158.80      1956.0            0.1238   \n",
       "2  ...          25.53           152.50      1709.0            0.1444   \n",
       "3  ...          26.50            98.87       567.7            0.2098   \n",
       "4  ...          16.67           152.20      1575.0            0.1374   \n",
       "\n",
       "   compactness_worst  concavity_worst  concave points_worst  symmetry_worst  \\\n",
       "0             0.6656           0.7119                0.2654          0.4601   \n",
       "1             0.1866           0.2416                0.1860          0.2750   \n",
       "2             0.4245           0.4504                0.2430          0.3613   \n",
       "3             0.8663           0.6869                0.2575          0.6638   \n",
       "4             0.2050           0.4000                0.1625          0.2364   \n",
       "\n",
       "   fractal_dimension_worst  Unnamed: 32  \n",
       "0                  0.11890          NaN  \n",
       "1                  0.08902          NaN  \n",
       "2                  0.08758          NaN  \n",
       "3                  0.17300          NaN  \n",
       "4                  0.07678          NaN  \n",
       "\n",
       "[5 rows x 33 columns]"
      ]
     },
     "execution_count": 3,
     "metadata": {},
     "output_type": "execute_result"
    }
   ],
   "source": [
    "df.head()"
   ]
  },
  {
   "cell_type": "markdown",
   "metadata": {},
   "source": [
    "## Data preprocessing/cleaning\n",
    "We will remove the null values and remove the id column. we will give the axis to target value.We will Normalize the data"
   ]
  },
  {
   "cell_type": "code",
   "execution_count": 4,
   "metadata": {},
   "outputs": [],
   "source": [
    "#firstly we drop two columns\n",
    "df.drop([\"id\",\"Unnamed: 32\"],axis = 1,inplace = True)\n",
    "#we change value of diognose M = 0 and B = 1(we use this diversity in logistic regression)\n",
    "df[\"diagnosis\"].replace(\"M\",0,inplace = True)\n",
    "df[\"diagnosis\"].replace(\"B\",1,inplace = True)"
   ]
  },
  {
   "cell_type": "code",
   "execution_count": 6,
   "metadata": {},
   "outputs": [],
   "source": [
    "#we select x,y axis\n",
    "y = df.diagnosis.values\n",
    "x_data = df.drop(\"diagnosis\",axis=1)"
   ]
  },
  {
   "cell_type": "code",
   "execution_count": 42,
   "metadata": {},
   "outputs": [],
   "source": [
    "#Normalize the data using min max Scaler for benchmark model\n",
    "from sklearn.preprocessing import MinMaxScaler\n",
    "mm = MinMaxScaler()\n",
    "x = mm.fit_transform(x_data)"
   ]
  },
  {
   "cell_type": "code",
   "execution_count": 84,
   "metadata": {},
   "outputs": [
    {
     "data": {
      "image/png": "[encoded data removed]",
      "text/plain": [
       "<Figure size 432x288 with 1 Axes>"
      ]
     },
     "metadata": {
      "needs_background": "light"
     },
     "output_type": "display_data"
    }
   ],
   "source": [
    "sns.countplot(x = 'diagnosis', data = df)\n",
    "x = df.iloc[:, 3:]\n",
    "y = df.diagnosis\n",
    "y = y.map({'M':0,'B':1})"
   ]
  },
  {
   "cell_type": "markdown",
   "metadata": {},
   "source": [
    "## Implementation\n",
    "### Training and Testing Data Split\n",
    "Before starting the training and the evaluation of the models, we split the dataset into test and training sets. The default split size is 25% which is done below."
   ]
  },
  {
   "cell_type": "code",
   "execution_count": 19,
   "metadata": {},
   "outputs": [],
   "source": [
    "#we separate train and test data with sklearn selection model\n",
    "from sklearn.model_selection import train_test_split\n",
    "x_train,x_test,y_train,y_test = train_test_split(x,y)"
   ]
  },
  {
   "cell_type": "markdown",
   "metadata": {},
   "source": [
    "### Benchmark Model"
   ]
  },
  {
   "cell_type": "code",
   "execution_count": 20,
   "metadata": {},
   "outputs": [
    {
     "name": "stdout",
     "output_type": "stream",
     "text": [
      "our accuracy is:0.9370629370629371\n"
     ]
    }
   ],
   "source": [
    "from sklearn.linear_model import LogisticRegression\n",
    "lgr = LogisticRegression(max_iter = 200)\n",
    "lgr.fit(x_train,y_train)\n",
    "print(\"our accuracy is:{}\".format(lgr.score(x_test,y_test)))"
   ]
  },
  {
   "cell_type": "code",
   "execution_count": 21,
   "metadata": {},
   "outputs": [],
   "source": [
    "#We can evaluate our model so and we have y_predict and y_true(y_test)\n",
    "from sklearn.metrics import confusion_matrix\n",
    "y_true = y_test \n",
    "y_pred = lgr.predict(x_test) #Predict data for eveluating \n",
    "cm = confusion_matrix(y_true,y_pred)"
   ]
  },
  {
   "cell_type": "code",
   "execution_count": 22,
   "metadata": {},
   "outputs": [
    {
     "data": {
      "text/plain": [
       "<matplotlib.axes._subplots.AxesSubplot at 0x7f10032f5b00>"
      ]
     },
     "execution_count": 22,
     "metadata": {},
     "output_type": "execute_result"
    },
    {
     "data": {
      "image/png": "[encoded data removed]",
      "text/plain": [
       "<Figure size 360x360 with 2 Axes>"
      ]
     },
     "metadata": {
      "needs_background": "light"
     },
     "output_type": "display_data"
    }
   ],
   "source": [
    "#We draw heatmap for showing confusion matrix\n",
    "import matplotlib.pyplot as plt\n",
    "import seaborn as sns\n",
    "f,ax = plt.subplots(figsize = (5,5))\n",
    "sns.heatmap(cm,annot = True,linewidth = 1,fmt =\".0f\",ax = ax)"
   ]
  },
  {
   "cell_type": "markdown",
   "metadata": {},
   "source": [
    "### Create our Model\n",
    "We will develop keras Sequential model with 2 hidden layers for classification\n",
    "\n",
    "The classification process followed the steps:\n",
    "\n",
    "- Load the data \n",
    "- Add input layer and first hidden layer\n",
    "- Add dropout to prevent overfitting\n",
    "- Repeat step for 2nd layer and add output layer\n",
    "- Train the model and calculate the accuracy"
   ]
  },
  {
   "cell_type": "code",
   "execution_count": 68,
   "metadata": {},
   "outputs": [],
   "source": [
    "from sklearn.preprocessing import StandardScaler\n",
    "sc = StandardScaler()\n",
    "x = sc.fit_transform(x_data)"
   ]
  },
  {
   "cell_type": "code",
   "execution_count": 27,
   "metadata": {},
   "outputs": [
    {
     "name": "stderr",
     "output_type": "stream",
     "text": [
      "Using TensorFlow backend.\n",
      "/home/akshit/.local/lib/python3.6/site-packages/tensorflow/python/framework/dtypes.py:516: FutureWarning: Passing (type, 1) or '1type' as a synonym of type is deprecated; in a future version of numpy, it will be understood as (type, (1,)) / '(1,)type'.\n",
      "  _np_qint8 = np.dtype([(\"qint8\", np.int8, 1)])\n",
      "/home/akshit/.local/lib/python3.6/site-packages/tensorflow/python/framework/dtypes.py:517: FutureWarning: Passing (type, 1) or '1type' as a synonym of type is deprecated; in a future version of numpy, it will be understood as (type, (1,)) / '(1,)type'.\n",
      "  _np_quint8 = np.dtype([(\"quint8\", np.uint8, 1)])\n",
      "/home/akshit/.local/lib/python3.6/site-packages/tensorflow/python/framework/dtypes.py:518: FutureWarning: Passing (type, 1) or '1type' as a synonym of type is deprecated; in a future version of numpy, it will be understood as (type, (1,)) / '(1,)type'.\n",
      "  _np_qint16 = np.dtype([(\"qint16\", np.int16, 1)])\n",
      "/home/akshit/.local/lib/python3.6/site-packages/tensorflow/python/framework/dtypes.py:519: FutureWarning: Passing (type, 1) or '1type' as a synonym of type is deprecated; in a future version of numpy, it will be understood as (type, (1,)) / '(1,)type'.\n",
      "  _np_quint16 = np.dtype([(\"quint16\", np.uint16, 1)])\n",
      "/home/akshit/.local/lib/python3.6/site-packages/tensorflow/python/framework/dtypes.py:520: FutureWarning: Passing (type, 1) or '1type' as a synonym of type is deprecated; in a future version of numpy, it will be understood as (type, (1,)) / '(1,)type'.\n",
      "  _np_qint32 = np.dtype([(\"qint32\", np.int32, 1)])\n",
      "/home/akshit/.local/lib/python3.6/site-packages/tensorflow/python/framework/dtypes.py:525: FutureWarning: Passing (type, 1) or '1type' as a synonym of type is deprecated; in a future version of numpy, it will be understood as (type, (1,)) / '(1,)type'.\n",
      "  np_resource = np.dtype([(\"resource\", np.ubyte, 1)])\n",
      "/home/akshit/.local/lib/python3.6/site-packages/tensorboard/compat/tensorflow_stub/dtypes.py:541: FutureWarning: Passing (type, 1) or '1type' as a synonym of type is deprecated; in a future version of numpy, it will be understood as (type, (1,)) / '(1,)type'.\n",
      "  _np_qint8 = np.dtype([(\"qint8\", np.int8, 1)])\n",
      "/home/akshit/.local/lib/python3.6/site-packages/tensorboard/compat/tensorflow_stub/dtypes.py:542: FutureWarning: Passing (type, 1) or '1type' as a synonym of type is deprecated; in a future version of numpy, it will be understood as (type, (1,)) / '(1,)type'.\n",
      "  _np_quint8 = np.dtype([(\"quint8\", np.uint8, 1)])\n",
      "/home/akshit/.local/lib/python3.6/site-packages/tensorboard/compat/tensorflow_stub/dtypes.py:543: FutureWarning: Passing (type, 1) or '1type' as a synonym of type is deprecated; in a future version of numpy, it will be understood as (type, (1,)) / '(1,)type'.\n",
      "  _np_qint16 = np.dtype([(\"qint16\", np.int16, 1)])\n",
      "/home/akshit/.local/lib/python3.6/site-packages/tensorboard/compat/tensorflow_stub/dtypes.py:544: FutureWarning: Passing (type, 1) or '1type' as a synonym of type is deprecated; in a future version of numpy, it will be understood as (type, (1,)) / '(1,)type'.\n",
      "  _np_quint16 = np.dtype([(\"quint16\", np.uint16, 1)])\n",
      "/home/akshit/.local/lib/python3.6/site-packages/tensorboard/compat/tensorflow_stub/dtypes.py:545: FutureWarning: Passing (type, 1) or '1type' as a synonym of type is deprecated; in a future version of numpy, it will be understood as (type, (1,)) / '(1,)type'.\n",
      "  _np_qint32 = np.dtype([(\"qint32\", np.int32, 1)])\n",
      "/home/akshit/.local/lib/python3.6/site-packages/tensorboard/compat/tensorflow_stub/dtypes.py:550: FutureWarning: Passing (type, 1) or '1type' as a synonym of type is deprecated; in a future version of numpy, it will be understood as (type, (1,)) / '(1,)type'.\n",
      "  np_resource = np.dtype([(\"resource\", np.ubyte, 1)])\n"
     ]
    }
   ],
   "source": [
    "import keras\n",
    "from keras.models import Sequential\n",
    "from keras.layers import Dense, Dropout"
   ]
  },
  {
   "cell_type": "code",
   "execution_count": 69,
   "metadata": {},
   "outputs": [
    {
     "name": "stderr",
     "output_type": "stream",
     "text": [
      "/home/akshit/.local/lib/python3.6/site-packages/ipykernel_launcher.py:4: UserWarning: Update your `Dense` call to the Keras 2 API: `Dense(activation=\"relu\", input_dim=30, units=16, kernel_initializer=\"uniform\")`\n",
      "  after removing the cwd from sys.path.\n",
      "/home/akshit/.local/lib/python3.6/site-packages/ipykernel_launcher.py:6: UserWarning: Update your `Dropout` call to the Keras 2 API: `Dropout(rate=0.1)`\n",
      "  \n"
     ]
    }
   ],
   "source": [
    "# Initialising the ANN\n",
    "classifier = Sequential()\n",
    "# Adding the input layer and the first hidden layer\n",
    "classifier.add(Dense(output_dim=16, init='uniform', activation='relu', input_dim=30))\n",
    "# Adding dropout to prevent overfitting\n",
    "classifier.add(Dropout(p=0.1))"
   ]
  },
  {
   "cell_type": "code",
   "execution_count": 70,
   "metadata": {},
   "outputs": [
    {
     "name": "stderr",
     "output_type": "stream",
     "text": [
      "/home/akshit/.local/lib/python3.6/site-packages/ipykernel_launcher.py:2: UserWarning: Update your `Dense` call to the Keras 2 API: `Dense(activation=\"relu\", units=16, kernel_initializer=\"uniform\")`\n",
      "  \n",
      "/home/akshit/.local/lib/python3.6/site-packages/ipykernel_launcher.py:4: UserWarning: Update your `Dropout` call to the Keras 2 API: `Dropout(rate=0.1)`\n",
      "  after removing the cwd from sys.path.\n"
     ]
    }
   ],
   "source": [
    "# Adding the second hidden layer\n",
    "classifier.add(Dense(output_dim=16, init='uniform', activation='relu'))\n",
    "# Adding dropout to prevent overfitting\n",
    "classifier.add(Dropout(p=0.1))"
   ]
  },
  {
   "cell_type": "code",
   "execution_count": 71,
   "metadata": {},
   "outputs": [
    {
     "name": "stderr",
     "output_type": "stream",
     "text": [
      "/home/akshit/.local/lib/python3.6/site-packages/ipykernel_launcher.py:2: UserWarning: Update your `Dense` call to the Keras 2 API: `Dense(activation=\"sigmoid\", units=1, kernel_initializer=\"uniform\")`\n",
      "  \n"
     ]
    }
   ],
   "source": [
    "# Adding the output layer\n",
    "classifier.add(Dense(output_dim=1, init='uniform', activation='sigmoid'))"
   ]
  },
  {
   "cell_type": "code",
   "execution_count": 72,
   "metadata": {},
   "outputs": [],
   "source": [
    "# Compiling the ANN\n",
    "classifier.compile(optimizer='adam', loss='binary_crossentropy', metrics=['accuracy'])"
   ]
  },
  {
   "cell_type": "code",
   "execution_count": 85,
   "metadata": {},
   "outputs": [
    {
     "name": "stdout",
     "output_type": "stream",
     "text": [
      "Epoch 1/150\n",
      "426/426 [==============================] - 0s 41us/step - loss: 0.1251 - accuracy: 0.9484\n",
      "Epoch 2/150\n",
      "426/426 [==============================] - 0s 30us/step - loss: 0.1286 - accuracy: 0.9437\n",
      "Epoch 3/150\n",
      "426/426 [==============================] - 0s 30us/step - loss: 0.1249 - accuracy: 0.9531\n",
      "Epoch 4/150\n",
      "426/426 [==============================] - 0s 46us/step - loss: 0.1293 - accuracy: 0.9554\n",
      "Epoch 5/150\n",
      "426/426 [==============================] - 0s 50us/step - loss: 0.1264 - accuracy: 0.9554\n",
      "Epoch 6/150\n",
      "426/426 [==============================] - 0s 59us/step - loss: 0.1153 - accuracy: 0.9577\n",
      "Epoch 7/150\n",
      "426/426 [==============================] - 0s 38us/step - loss: 0.1064 - accuracy: 0.9742\n",
      "Epoch 8/150\n",
      "426/426 [==============================] - 0s 54us/step - loss: 0.1209 - accuracy: 0.9554\n",
      "Epoch 9/150\n",
      "426/426 [==============================] - 0s 43us/step - loss: 0.1240 - accuracy: 0.9484\n"
     ]
    },
    {
     "name": "stderr",
     "output_type": "stream",
     "text": [
      "/home/akshit/.local/lib/python3.6/site-packages/ipykernel_launcher.py:2: UserWarning: The `nb_epoch` argument in `fit` has been renamed `epochs`.\n",
      "  \n"
     ]
    },
    {
     "name": "stdout",
     "output_type": "stream",
     "text": [
      "Epoch 10/150\n",
      "426/426 [==============================] - 0s 53us/step - loss: 0.1200 - accuracy: 0.9577\n",
      "Epoch 11/150\n",
      "426/426 [==============================] - 0s 55us/step - loss: 0.1218 - accuracy: 0.9554\n",
      "Epoch 12/150\n",
      "426/426 [==============================] - 0s 37us/step - loss: 0.1034 - accuracy: 0.9671\n",
      "Epoch 13/150\n",
      "426/426 [==============================] - 0s 42us/step - loss: 0.1215 - accuracy: 0.9601\n",
      "Epoch 14/150\n",
      "426/426 [==============================] - 0s 50us/step - loss: 0.1109 - accuracy: 0.9601\n",
      "Epoch 15/150\n",
      "426/426 [==============================] - 0s 46us/step - loss: 0.1075 - accuracy: 0.9648\n",
      "Epoch 16/150\n",
      "426/426 [==============================] - 0s 53us/step - loss: 0.1242 - accuracy: 0.9554\n",
      "Epoch 17/150\n",
      "426/426 [==============================] - 0s 45us/step - loss: 0.1160 - accuracy: 0.9554\n",
      "Epoch 18/150\n",
      "426/426 [==============================] - 0s 49us/step - loss: 0.1042 - accuracy: 0.9554\n",
      "Epoch 19/150\n",
      "426/426 [==============================] - 0s 47us/step - loss: 0.1003 - accuracy: 0.9624\n",
      "Epoch 20/150\n",
      "426/426 [==============================] - 0s 56us/step - loss: 0.1072 - accuracy: 0.9624\n",
      "Epoch 21/150\n",
      "426/426 [==============================] - 0s 57us/step - loss: 0.1029 - accuracy: 0.9531\n",
      "Epoch 22/150\n",
      "426/426 [==============================] - 0s 37us/step - loss: 0.1072 - accuracy: 0.9554\n",
      "Epoch 23/150\n",
      "426/426 [==============================] - 0s 39us/step - loss: 0.0977 - accuracy: 0.9671\n",
      "Epoch 24/150\n",
      "426/426 [==============================] - 0s 48us/step - loss: 0.0958 - accuracy: 0.9765\n",
      "Epoch 25/150\n",
      "426/426 [==============================] - 0s 50us/step - loss: 0.0998 - accuracy: 0.9648\n",
      "Epoch 26/150\n",
      "426/426 [==============================] - 0s 44us/step - loss: 0.1022 - accuracy: 0.9671\n",
      "Epoch 27/150\n",
      "426/426 [==============================] - 0s 52us/step - loss: 0.1085 - accuracy: 0.9671\n",
      "Epoch 28/150\n",
      "426/426 [==============================] - 0s 56us/step - loss: 0.0951 - accuracy: 0.9624\n",
      "Epoch 29/150\n",
      "426/426 [==============================] - 0s 59us/step - loss: 0.0988 - accuracy: 0.9671\n",
      "Epoch 30/150\n",
      "426/426 [==============================] - 0s 45us/step - loss: 0.1033 - accuracy: 0.9648\n",
      "Epoch 31/150\n",
      "426/426 [==============================] - 0s 46us/step - loss: 0.0882 - accuracy: 0.9671\n",
      "Epoch 32/150\n",
      "426/426 [==============================] - 0s 60us/step - loss: 0.1001 - accuracy: 0.9554\n",
      "Epoch 33/150\n",
      "426/426 [==============================] - 0s 47us/step - loss: 0.0932 - accuracy: 0.9671\n",
      "Epoch 34/150\n",
      "426/426 [==============================] - 0s 45us/step - loss: 0.0937 - accuracy: 0.9742\n",
      "Epoch 35/150\n",
      "426/426 [==============================] - 0s 42us/step - loss: 0.0834 - accuracy: 0.9765\n",
      "Epoch 36/150\n",
      "426/426 [==============================] - 0s 37us/step - loss: 0.0935 - accuracy: 0.9601\n",
      "Epoch 37/150\n",
      "426/426 [==============================] - 0s 43us/step - loss: 0.0859 - accuracy: 0.9742\n",
      "Epoch 38/150\n",
      "426/426 [==============================] - 0s 52us/step - loss: 0.0997 - accuracy: 0.9648\n",
      "Epoch 39/150\n",
      "426/426 [==============================] - 0s 70us/step - loss: 0.0900 - accuracy: 0.9742\n",
      "Epoch 40/150\n",
      "426/426 [==============================] - 0s 60us/step - loss: 0.0918 - accuracy: 0.9624\n",
      "Epoch 41/150\n",
      "426/426 [==============================] - 0s 54us/step - loss: 0.1005 - accuracy: 0.9648\n",
      "Epoch 42/150\n",
      "426/426 [==============================] - 0s 45us/step - loss: 0.0825 - accuracy: 0.9718\n",
      "Epoch 43/150\n",
      "426/426 [==============================] - 0s 41us/step - loss: 0.0804 - accuracy: 0.9718\n",
      "Epoch 44/150\n",
      "426/426 [==============================] - 0s 63us/step - loss: 0.0899 - accuracy: 0.9624\n",
      "Epoch 45/150\n",
      "426/426 [==============================] - 0s 54us/step - loss: 0.0906 - accuracy: 0.9718\n",
      "Epoch 46/150\n",
      "426/426 [==============================] - 0s 44us/step - loss: 0.0946 - accuracy: 0.9601\n",
      "Epoch 47/150\n",
      "426/426 [==============================] - 0s 35us/step - loss: 0.0965 - accuracy: 0.9648\n",
      "Epoch 48/150\n",
      "426/426 [==============================] - 0s 33us/step - loss: 0.0905 - accuracy: 0.9695\n",
      "Epoch 49/150\n",
      "426/426 [==============================] - 0s 45us/step - loss: 0.0920 - accuracy: 0.9765\n",
      "Epoch 50/150\n",
      "426/426 [==============================] - 0s 46us/step - loss: 0.0848 - accuracy: 0.9718\n",
      "Epoch 51/150\n",
      "426/426 [==============================] - 0s 60us/step - loss: 0.1002 - accuracy: 0.9577\n",
      "Epoch 52/150\n",
      "426/426 [==============================] - 0s 48us/step - loss: 0.0764 - accuracy: 0.9812\n",
      "Epoch 53/150\n",
      "426/426 [==============================] - 0s 39us/step - loss: 0.0890 - accuracy: 0.9624\n",
      "Epoch 54/150\n",
      "426/426 [==============================] - 0s 65us/step - loss: 0.0750 - accuracy: 0.9836\n",
      "Epoch 55/150\n",
      "426/426 [==============================] - 0s 38us/step - loss: 0.0768 - accuracy: 0.9765\n",
      "Epoch 56/150\n",
      "426/426 [==============================] - 0s 49us/step - loss: 0.0865 - accuracy: 0.9695\n",
      "Epoch 57/150\n",
      "426/426 [==============================] - 0s 44us/step - loss: 0.0803 - accuracy: 0.9695\n",
      "Epoch 58/150\n",
      "426/426 [==============================] - 0s 61us/step - loss: 0.0925 - accuracy: 0.9577\n",
      "Epoch 59/150\n",
      "426/426 [==============================] - 0s 40us/step - loss: 0.0883 - accuracy: 0.9742\n",
      "Epoch 60/150\n",
      "426/426 [==============================] - 0s 50us/step - loss: 0.0938 - accuracy: 0.9624\n",
      "Epoch 61/150\n",
      "426/426 [==============================] - 0s 64us/step - loss: 0.0875 - accuracy: 0.9648\n",
      "Epoch 62/150\n",
      "426/426 [==============================] - 0s 45us/step - loss: 0.0728 - accuracy: 0.9742\n",
      "Epoch 63/150\n",
      "426/426 [==============================] - 0s 44us/step - loss: 0.0857 - accuracy: 0.9718\n",
      "Epoch 64/150\n",
      "426/426 [==============================] - 0s 36us/step - loss: 0.0835 - accuracy: 0.9718\n",
      "Epoch 65/150\n",
      "426/426 [==============================] - 0s 49us/step - loss: 0.0803 - accuracy: 0.9671\n",
      "Epoch 66/150\n",
      "426/426 [==============================] - 0s 50us/step - loss: 0.0765 - accuracy: 0.9789\n",
      "Epoch 67/150\n",
      "426/426 [==============================] - 0s 45us/step - loss: 0.0805 - accuracy: 0.9695\n",
      "Epoch 68/150\n",
      "426/426 [==============================] - 0s 58us/step - loss: 0.0795 - accuracy: 0.9718\n",
      "Epoch 69/150\n",
      "426/426 [==============================] - 0s 36us/step - loss: 0.0685 - accuracy: 0.9836\n",
      "Epoch 70/150\n",
      "426/426 [==============================] - 0s 43us/step - loss: 0.0828 - accuracy: 0.9695\n",
      "Epoch 71/150\n",
      "426/426 [==============================] - 0s 39us/step - loss: 0.0786 - accuracy: 0.9695\n",
      "Epoch 72/150\n",
      "426/426 [==============================] - 0s 34us/step - loss: 0.0830 - accuracy: 0.9648\n",
      "Epoch 73/150\n",
      "426/426 [==============================] - 0s 41us/step - loss: 0.0711 - accuracy: 0.9765\n",
      "Epoch 74/150\n",
      "426/426 [==============================] - 0s 45us/step - loss: 0.0700 - accuracy: 0.9765\n",
      "Epoch 75/150\n",
      "426/426 [==============================] - 0s 30us/step - loss: 0.0653 - accuracy: 0.9812\n",
      "Epoch 76/150\n",
      "426/426 [==============================] - 0s 50us/step - loss: 0.0867 - accuracy: 0.9624\n",
      "Epoch 77/150\n",
      "426/426 [==============================] - 0s 40us/step - loss: 0.0734 - accuracy: 0.9765\n",
      "Epoch 78/150\n",
      "426/426 [==============================] - 0s 44us/step - loss: 0.0699 - accuracy: 0.9812\n",
      "Epoch 79/150\n",
      "426/426 [==============================] - 0s 34us/step - loss: 0.0847 - accuracy: 0.9695\n",
      "Epoch 80/150\n",
      "426/426 [==============================] - 0s 48us/step - loss: 0.0762 - accuracy: 0.9789\n",
      "Epoch 81/150\n",
      "426/426 [==============================] - 0s 47us/step - loss: 0.0773 - accuracy: 0.9718\n",
      "Epoch 82/150\n",
      "426/426 [==============================] - ETA: 0s - loss: 0.0768 - accuracy: 0.96 - 0s 40us/step - loss: 0.0835 - accuracy: 0.9671\n",
      "Epoch 83/150\n",
      "426/426 [==============================] - 0s 50us/step - loss: 0.0848 - accuracy: 0.9624\n",
      "Epoch 84/150\n",
      "426/426 [==============================] - 0s 32us/step - loss: 0.0775 - accuracy: 0.9742\n",
      "Epoch 85/150\n",
      "426/426 [==============================] - 0s 36us/step - loss: 0.0730 - accuracy: 0.9765\n",
      "Epoch 86/150\n",
      "426/426 [==============================] - 0s 35us/step - loss: 0.0792 - accuracy: 0.9671\n",
      "Epoch 87/150\n",
      "426/426 [==============================] - 0s 30us/step - loss: 0.0664 - accuracy: 0.9789\n",
      "Epoch 88/150\n",
      "426/426 [==============================] - 0s 45us/step - loss: 0.0700 - accuracy: 0.9789\n",
      "Epoch 89/150\n"
     ]
    },
    {
     "name": "stdout",
     "output_type": "stream",
     "text": [
      "426/426 [==============================] - 0s 50us/step - loss: 0.0641 - accuracy: 0.9742\n",
      "Epoch 90/150\n",
      "426/426 [==============================] - 0s 45us/step - loss: 0.0739 - accuracy: 0.9765\n",
      "Epoch 91/150\n",
      "426/426 [==============================] - 0s 39us/step - loss: 0.0733 - accuracy: 0.9765\n",
      "Epoch 92/150\n",
      "426/426 [==============================] - 0s 41us/step - loss: 0.0801 - accuracy: 0.9789\n",
      "Epoch 93/150\n",
      "426/426 [==============================] - 0s 32us/step - loss: 0.0655 - accuracy: 0.9812\n",
      "Epoch 94/150\n",
      "426/426 [==============================] - 0s 36us/step - loss: 0.0733 - accuracy: 0.9765\n",
      "Epoch 95/150\n",
      "426/426 [==============================] - 0s 41us/step - loss: 0.0679 - accuracy: 0.9789\n",
      "Epoch 96/150\n",
      "426/426 [==============================] - 0s 33us/step - loss: 0.0754 - accuracy: 0.9789\n",
      "Epoch 97/150\n",
      "426/426 [==============================] - 0s 40us/step - loss: 0.0811 - accuracy: 0.9671\n",
      "Epoch 98/150\n",
      "426/426 [==============================] - 0s 35us/step - loss: 0.0771 - accuracy: 0.9718\n",
      "Epoch 99/150\n",
      "426/426 [==============================] - 0s 42us/step - loss: 0.0800 - accuracy: 0.9742\n",
      "Epoch 100/150\n",
      "426/426 [==============================] - 0s 37us/step - loss: 0.0660 - accuracy: 0.9789\n",
      "Epoch 101/150\n",
      "426/426 [==============================] - 0s 45us/step - loss: 0.0641 - accuracy: 0.9859\n",
      "Epoch 102/150\n",
      "426/426 [==============================] - 0s 36us/step - loss: 0.0743 - accuracy: 0.9742\n",
      "Epoch 103/150\n",
      "426/426 [==============================] - 0s 55us/step - loss: 0.0707 - accuracy: 0.9812\n",
      "Epoch 104/150\n",
      "426/426 [==============================] - 0s 37us/step - loss: 0.0695 - accuracy: 0.9718\n",
      "Epoch 105/150\n",
      "426/426 [==============================] - 0s 58us/step - loss: 0.0684 - accuracy: 0.9695\n",
      "Epoch 106/150\n",
      "426/426 [==============================] - 0s 46us/step - loss: 0.0697 - accuracy: 0.9695\n",
      "Epoch 107/150\n",
      "426/426 [==============================] - 0s 42us/step - loss: 0.0650 - accuracy: 0.9718\n",
      "Epoch 108/150\n",
      "426/426 [==============================] - 0s 42us/step - loss: 0.0688 - accuracy: 0.9789\n",
      "Epoch 109/150\n",
      "426/426 [==============================] - 0s 55us/step - loss: 0.0679 - accuracy: 0.9789\n",
      "Epoch 110/150\n",
      "426/426 [==============================] - 0s 44us/step - loss: 0.0624 - accuracy: 0.9812\n",
      "Epoch 111/150\n",
      "426/426 [==============================] - 0s 47us/step - loss: 0.0638 - accuracy: 0.9812\n",
      "Epoch 112/150\n",
      "426/426 [==============================] - 0s 42us/step - loss: 0.0602 - accuracy: 0.9812\n",
      "Epoch 113/150\n",
      "426/426 [==============================] - 0s 41us/step - loss: 0.0727 - accuracy: 0.9695\n",
      "Epoch 114/150\n",
      "426/426 [==============================] - 0s 46us/step - loss: 0.0588 - accuracy: 0.9836\n",
      "Epoch 115/150\n",
      "426/426 [==============================] - 0s 54us/step - loss: 0.0652 - accuracy: 0.9859\n",
      "Epoch 116/150\n",
      "426/426 [==============================] - 0s 42us/step - loss: 0.0685 - accuracy: 0.9789\n",
      "Epoch 117/150\n",
      "426/426 [==============================] - 0s 49us/step - loss: 0.0751 - accuracy: 0.9718\n",
      "Epoch 118/150\n",
      "426/426 [==============================] - 0s 42us/step - loss: 0.0615 - accuracy: 0.9812\n",
      "Epoch 119/150\n",
      "426/426 [==============================] - 0s 38us/step - loss: 0.0735 - accuracy: 0.9718\n",
      "Epoch 120/150\n",
      "426/426 [==============================] - 0s 56us/step - loss: 0.0735 - accuracy: 0.9742\n",
      "Epoch 121/150\n",
      "426/426 [==============================] - 0s 50us/step - loss: 0.0739 - accuracy: 0.9765\n",
      "Epoch 122/150\n",
      "426/426 [==============================] - 0s 44us/step - loss: 0.0556 - accuracy: 0.9859\n",
      "Epoch 123/150\n",
      "426/426 [==============================] - 0s 32us/step - loss: 0.0641 - accuracy: 0.9789\n",
      "Epoch 124/150\n",
      "426/426 [==============================] - 0s 39us/step - loss: 0.0670 - accuracy: 0.9789\n",
      "Epoch 125/150\n",
      "426/426 [==============================] - 0s 39us/step - loss: 0.0579 - accuracy: 0.9836\n",
      "Epoch 126/150\n",
      "426/426 [==============================] - 0s 36us/step - loss: 0.0655 - accuracy: 0.9789\n",
      "Epoch 127/150\n",
      "426/426 [==============================] - 0s 50us/step - loss: 0.0565 - accuracy: 0.9859\n",
      "Epoch 128/150\n",
      "426/426 [==============================] - 0s 36us/step - loss: 0.0633 - accuracy: 0.9859\n",
      "Epoch 129/150\n",
      "426/426 [==============================] - 0s 53us/step - loss: 0.0606 - accuracy: 0.9812\n",
      "Epoch 130/150\n",
      "426/426 [==============================] - 0s 45us/step - loss: 0.0577 - accuracy: 0.9789\n",
      "Epoch 131/150\n",
      "426/426 [==============================] - 0s 48us/step - loss: 0.0640 - accuracy: 0.9812\n",
      "Epoch 132/150\n",
      "426/426 [==============================] - 0s 51us/step - loss: 0.0746 - accuracy: 0.9765\n",
      "Epoch 133/150\n",
      "426/426 [==============================] - 0s 50us/step - loss: 0.0677 - accuracy: 0.9765\n",
      "Epoch 134/150\n",
      "426/426 [==============================] - 0s 57us/step - loss: 0.0619 - accuracy: 0.9765\n",
      "Epoch 135/150\n",
      "426/426 [==============================] - 0s 38us/step - loss: 0.0693 - accuracy: 0.9789\n",
      "Epoch 136/150\n",
      "426/426 [==============================] - 0s 51us/step - loss: 0.0628 - accuracy: 0.9859\n",
      "Epoch 137/150\n",
      "426/426 [==============================] - 0s 53us/step - loss: 0.0646 - accuracy: 0.9789\n",
      "Epoch 138/150\n",
      "426/426 [==============================] - 0s 49us/step - loss: 0.0730 - accuracy: 0.9742\n",
      "Epoch 139/150\n",
      "426/426 [==============================] - 0s 38us/step - loss: 0.0595 - accuracy: 0.9836\n",
      "Epoch 140/150\n",
      "426/426 [==============================] - 0s 43us/step - loss: 0.0640 - accuracy: 0.9812\n",
      "Epoch 141/150\n",
      "426/426 [==============================] - 0s 56us/step - loss: 0.0591 - accuracy: 0.9765\n",
      "Epoch 142/150\n",
      "426/426 [==============================] - 0s 39us/step - loss: 0.0547 - accuracy: 0.9812\n",
      "Epoch 143/150\n",
      "426/426 [==============================] - 0s 52us/step - loss: 0.0630 - accuracy: 0.9789\n",
      "Epoch 144/150\n",
      "426/426 [==============================] - 0s 42us/step - loss: 0.0658 - accuracy: 0.9765\n",
      "Epoch 145/150\n",
      "426/426 [==============================] - 0s 37us/step - loss: 0.0663 - accuracy: 0.9789\n",
      "Epoch 146/150\n",
      "426/426 [==============================] - 0s 35us/step - loss: 0.0669 - accuracy: 0.9789\n",
      "Epoch 147/150\n",
      "426/426 [==============================] - 0s 41us/step - loss: 0.0657 - accuracy: 0.9812\n",
      "Epoch 148/150\n",
      "426/426 [==============================] - 0s 53us/step - loss: 0.0608 - accuracy: 0.9836\n",
      "Epoch 149/150\n",
      "426/426 [==============================] - 0s 47us/step - loss: 0.0598 - accuracy: 0.9859\n",
      "Epoch 150/150\n",
      "426/426 [==============================] - 0s 37us/step - loss: 0.0534 - accuracy: 0.9859\n"
     ]
    },
    {
     "data": {
      "text/plain": [
       "<keras.callbacks.callbacks.History at 0x7f0fb2538ef0>"
      ]
     },
     "execution_count": 85,
     "metadata": {},
     "output_type": "execute_result"
    }
   ],
   "source": [
    "# Fitting the ANN to the Training set\n",
    "classifier.fit(x_train, y_train, batch_size=100, nb_epoch=150)"
   ]
  },
  {
   "cell_type": "markdown",
   "metadata": {},
   "source": [
    "## Model Evaluation\n",
    "Use the predictor to generate predicted, class labels for the test data. Compare those to the true labels, test_y, and calculate the accuracy as a value between 0 and 1.0 that indicates the fraction of test data that your model classified correctly. We will use sklearn.metrics for this calculation."
   ]
  },
  {
   "cell_type": "code",
   "execution_count": 86,
   "metadata": {},
   "outputs": [],
   "source": [
    "# Predicting the Test set results\n",
    "y_pred = classifier.predict(x_test)\n",
    "y_pred = (y_pred > 0.5)"
   ]
  },
  {
   "cell_type": "code",
   "execution_count": 87,
   "metadata": {},
   "outputs": [],
   "source": [
    "# Making the Confusion Matrix\n",
    "from sklearn.metrics import confusion_matrix\n",
    "cm = confusion_matrix(y_test, y_pred)"
   ]
  },
  {
   "cell_type": "code",
   "execution_count": 92,
   "metadata": {},
   "outputs": [
    {
     "name": "stdout",
     "output_type": "stream",
     "text": [
      "Our accuracy is 99.28057553956835%\n"
     ]
    }
   ],
   "source": [
    "print(\"Our accuracy is {}%\".format(((cm[0][0] + cm[1][1])/139)*100))"
   ]
  },
  {
   "cell_type": "code",
   "execution_count": 93,
   "metadata": {},
   "outputs": [
    {
     "data": {
      "image/png": "[encoded data removed]",
      "text/plain": [
       "<Figure size 432x288 with 2 Axes>"
      ]
     },
     "metadata": {
      "needs_background": "light"
     },
     "output_type": "display_data"
    }
   ],
   "source": [
    "sns.heatmap(cm,annot=True)\n",
    "plt.savefig('h.png')"
   ]
  },
  {
   "cell_type": "markdown",
   "metadata": {},
   "source": [
    "### Conclusion\n",
    "- During the models' implementation a lot of steps were tested and some of them needed to be modified to reach better performance. For choosing a better parameter, we interacted over the options and decided on the one that optimized the accuracy.\n",
    "- We can say that our model can predict Malignant and benign tissue accurately.\n",
    "- The benchmark model gave the accuracy of 93.7%, we easily beat the accuracy by 5.5%."
   ]
  },
  {
   "cell_type": "code",
   "execution_count": null,
   "metadata": {},
   "outputs": [],
   "source": []
  }
 ],
 "metadata": {
  "kernelspec": {
   "display_name": "Python 3",
   "language": "python",
   "name": "python3"
  },
  "language_info": {
   "codemirror_mode": {
    "name": "ipython",
    "version": 3
   },
   "file_extension": ".py",
   "mimetype": "text/x-python",
   "name": "python",
   "nbconvert_exporter": "python",
   "pygments_lexer": "ipython3",
   "version": "3.6.9"
  }
 },
 "nbformat": 4,
 "nbformat_minor": 4
}
